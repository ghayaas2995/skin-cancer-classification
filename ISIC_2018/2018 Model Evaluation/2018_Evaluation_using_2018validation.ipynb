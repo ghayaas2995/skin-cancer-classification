{
 "cells": [
  {
   "cell_type": "code",
   "execution_count": 19,
   "id": "9c260552",
   "metadata": {},
   "outputs": [],
   "source": [
    "import pandas as pd\n",
    "import numpy as np\n",
    "import os\n",
    "from os import walk\n",
    "import tensorflow as tf\n",
    "from tensorflow import keras\n",
    "from tensorflow.keras.preprocessing.image import ImageDataGenerator\n",
    "from sklearn.metrics import classification_report, confusion_matrix\n",
    "from tensorflow.keras.preprocessing import image"
   ]
  },
  {
   "cell_type": "markdown",
   "id": "49b35ecf",
   "metadata": {},
   "source": [
    "Use the 2018 task 3 validation data and validation ground truth for the following"
   ]
  },
  {
   "cell_type": "markdown",
   "id": "0ef8b657",
   "metadata": {},
   "source": [
    "Download Validation dataset: https://isic-challenge-data.s3.amazonaws.com/2018/ISIC2018_Task3_Validation_Input.zip"
   ]
  },
  {
   "cell_type": "markdown",
   "id": "3fee3ed3",
   "metadata": {},
   "source": [
    "put the subset data in directory ./Data/ISIC2018_Task3_Validation_Input/\n",
    "\n",
    "Downloade Saved Models from https://github.com/Avi-k-dua/Melanoma_Detection/tree/master/ISIC2018/Saved%20Models and put in directory ./Saved Models/"
   ]
  },
  {
   "cell_type": "markdown",
   "id": "01445ed6",
   "metadata": {},
   "source": [
    "Download Validation Ground Truth: https://isic-challenge-data.s3.amazonaws.com/2018/ISIC2018_Task3_Validation_GroundTruth.zip"
   ]
  },
  {
   "cell_type": "code",
   "execution_count": 21,
   "id": "d440ab78",
   "metadata": {},
   "outputs": [],
   "source": [
    "# set the path to the 2018 validation images\n",
    "test_path = os.path.normpath('./Data/ISIC2018_Task3_Validation_Input/')\n",
    "\n",
    "# change to path for 'Saved Models'\n",
    "ensemble_path = os.path.normpath('./Saved Models/')"
   ]
  },
  {
   "cell_type": "code",
   "execution_count": 4,
   "id": "9b9c3878",
   "metadata": {},
   "outputs": [],
   "source": [
    "# use the 2018 validation ground truth\n",
    "df18_val = pd.read_csv('ISIC2018_Task3_Validation_GroundTruth.csv')"
   ]
  },
  {
   "cell_type": "code",
   "execution_count": 5,
   "id": "288193c2",
   "metadata": {},
   "outputs": [
    {
     "data": {
      "text/html": [
       "<div>\n",
       "<style scoped>\n",
       "    .dataframe tbody tr th:only-of-type {\n",
       "        vertical-align: middle;\n",
       "    }\n",
       "\n",
       "    .dataframe tbody tr th {\n",
       "        vertical-align: top;\n",
       "    }\n",
       "\n",
       "    .dataframe thead th {\n",
       "        text-align: right;\n",
       "    }\n",
       "</style>\n",
       "<table border=\"1\" class=\"dataframe\">\n",
       "  <thead>\n",
       "    <tr style=\"text-align: right;\">\n",
       "      <th></th>\n",
       "      <th>image</th>\n",
       "      <th>MEL</th>\n",
       "      <th>NV</th>\n",
       "      <th>BCC</th>\n",
       "      <th>AKIEC</th>\n",
       "      <th>BKL</th>\n",
       "      <th>DF</th>\n",
       "      <th>VASC</th>\n",
       "    </tr>\n",
       "  </thead>\n",
       "  <tbody>\n",
       "    <tr>\n",
       "      <th>0</th>\n",
       "      <td>ISIC_0034321</td>\n",
       "      <td>0.0</td>\n",
       "      <td>1.0</td>\n",
       "      <td>0.0</td>\n",
       "      <td>0.0</td>\n",
       "      <td>0.0</td>\n",
       "      <td>0.0</td>\n",
       "      <td>0.0</td>\n",
       "    </tr>\n",
       "    <tr>\n",
       "      <th>1</th>\n",
       "      <td>ISIC_0034322</td>\n",
       "      <td>0.0</td>\n",
       "      <td>1.0</td>\n",
       "      <td>0.0</td>\n",
       "      <td>0.0</td>\n",
       "      <td>0.0</td>\n",
       "      <td>0.0</td>\n",
       "      <td>0.0</td>\n",
       "    </tr>\n",
       "    <tr>\n",
       "      <th>2</th>\n",
       "      <td>ISIC_0034323</td>\n",
       "      <td>0.0</td>\n",
       "      <td>0.0</td>\n",
       "      <td>1.0</td>\n",
       "      <td>0.0</td>\n",
       "      <td>0.0</td>\n",
       "      <td>0.0</td>\n",
       "      <td>0.0</td>\n",
       "    </tr>\n",
       "    <tr>\n",
       "      <th>3</th>\n",
       "      <td>ISIC_0034324</td>\n",
       "      <td>0.0</td>\n",
       "      <td>1.0</td>\n",
       "      <td>0.0</td>\n",
       "      <td>0.0</td>\n",
       "      <td>0.0</td>\n",
       "      <td>0.0</td>\n",
       "      <td>0.0</td>\n",
       "    </tr>\n",
       "    <tr>\n",
       "      <th>4</th>\n",
       "      <td>ISIC_0034325</td>\n",
       "      <td>0.0</td>\n",
       "      <td>1.0</td>\n",
       "      <td>0.0</td>\n",
       "      <td>0.0</td>\n",
       "      <td>0.0</td>\n",
       "      <td>0.0</td>\n",
       "      <td>0.0</td>\n",
       "    </tr>\n",
       "  </tbody>\n",
       "</table>\n",
       "</div>"
      ],
      "text/plain": [
       "          image  MEL   NV  BCC  AKIEC  BKL   DF  VASC\n",
       "0  ISIC_0034321  0.0  1.0  0.0    0.0  0.0  0.0   0.0\n",
       "1  ISIC_0034322  0.0  1.0  0.0    0.0  0.0  0.0   0.0\n",
       "2  ISIC_0034323  0.0  0.0  1.0    0.0  0.0  0.0   0.0\n",
       "3  ISIC_0034324  0.0  1.0  0.0    0.0  0.0  0.0   0.0\n",
       "4  ISIC_0034325  0.0  1.0  0.0    0.0  0.0  0.0   0.0"
      ]
     },
     "execution_count": 5,
     "metadata": {},
     "output_type": "execute_result"
    }
   ],
   "source": [
    "df18_val.head()"
   ]
  },
  {
   "cell_type": "code",
   "execution_count": 6,
   "id": "6ec9bf89",
   "metadata": {},
   "outputs": [],
   "source": [
    "df18_val_t = pd.melt(df18_val, id_vars=['image'],var_name='diagnosis', value_name='value')\n",
    "\n",
    "df18_val_t = df18_val_t[df18_val_t['value'] == 1]\n",
    "df18_val_t = df18_val_t.sort_values('image')\n",
    "df18_val_t.diagnosis = df18_val_t.diagnosis.str.lower()\n",
    "df18_val_t.reset_index(inplace = True, drop = True)\n",
    "\n",
    "df18_val_t.rename(columns={'image': 'image_name', 'value': 'labels'}, inplace=True)\n",
    "df18_val_t.labels = df18_val_t.diagnosis.map({\n",
    "        'akiec': 0,\n",
    "        'bcc': 1,\n",
    "        'bkl': 2,\n",
    "        'df': 3,\n",
    "        'mel': 4,\n",
    "        'nv': 5,\n",
    "        'vasc': 6\n",
    "    })\n",
    "\n",
    "def append_ext(fn):\n",
    "    return fn+\".jpg\"\n",
    "\n",
    "df18_val_t.image_name = df18_val_t.image_name.apply(append_ext)"
   ]
  },
  {
   "cell_type": "code",
   "execution_count": 7,
   "id": "12c2a621",
   "metadata": {},
   "outputs": [
    {
     "data": {
      "text/html": [
       "<div>\n",
       "<style scoped>\n",
       "    .dataframe tbody tr th:only-of-type {\n",
       "        vertical-align: middle;\n",
       "    }\n",
       "\n",
       "    .dataframe tbody tr th {\n",
       "        vertical-align: top;\n",
       "    }\n",
       "\n",
       "    .dataframe thead th {\n",
       "        text-align: right;\n",
       "    }\n",
       "</style>\n",
       "<table border=\"1\" class=\"dataframe\">\n",
       "  <thead>\n",
       "    <tr style=\"text-align: right;\">\n",
       "      <th></th>\n",
       "      <th>image_name</th>\n",
       "      <th>diagnosis</th>\n",
       "      <th>labels</th>\n",
       "    </tr>\n",
       "  </thead>\n",
       "  <tbody>\n",
       "    <tr>\n",
       "      <th>0</th>\n",
       "      <td>ISIC_0034321.jpg</td>\n",
       "      <td>nv</td>\n",
       "      <td>5</td>\n",
       "    </tr>\n",
       "    <tr>\n",
       "      <th>1</th>\n",
       "      <td>ISIC_0034322.jpg</td>\n",
       "      <td>nv</td>\n",
       "      <td>5</td>\n",
       "    </tr>\n",
       "    <tr>\n",
       "      <th>2</th>\n",
       "      <td>ISIC_0034323.jpg</td>\n",
       "      <td>bcc</td>\n",
       "      <td>1</td>\n",
       "    </tr>\n",
       "    <tr>\n",
       "      <th>3</th>\n",
       "      <td>ISIC_0034324.jpg</td>\n",
       "      <td>nv</td>\n",
       "      <td>5</td>\n",
       "    </tr>\n",
       "    <tr>\n",
       "      <th>4</th>\n",
       "      <td>ISIC_0034325.jpg</td>\n",
       "      <td>nv</td>\n",
       "      <td>5</td>\n",
       "    </tr>\n",
       "  </tbody>\n",
       "</table>\n",
       "</div>"
      ],
      "text/plain": [
       "         image_name diagnosis  labels\n",
       "0  ISIC_0034321.jpg        nv       5\n",
       "1  ISIC_0034322.jpg        nv       5\n",
       "2  ISIC_0034323.jpg       bcc       1\n",
       "3  ISIC_0034324.jpg        nv       5\n",
       "4  ISIC_0034325.jpg        nv       5"
      ]
     },
     "execution_count": 7,
     "metadata": {},
     "output_type": "execute_result"
    }
   ],
   "source": [
    "df18_val_t.head()"
   ]
  },
  {
   "cell_type": "code",
   "execution_count": 8,
   "id": "f8c97bdb",
   "metadata": {},
   "outputs": [
    {
     "data": {
      "text/plain": [
       "nv       123\n",
       "bkl       22\n",
       "mel       21\n",
       "bcc       15\n",
       "akiec      8\n",
       "vasc       3\n",
       "df         1\n",
       "Name: diagnosis, dtype: int64"
      ]
     },
     "execution_count": 8,
     "metadata": {},
     "output_type": "execute_result"
    }
   ],
   "source": [
    "df18_val_t.diagnosis.value_counts()"
   ]
  },
  {
   "cell_type": "code",
   "execution_count": 9,
   "id": "96e073f6",
   "metadata": {},
   "outputs": [
    {
     "name": "stdout",
     "output_type": "stream",
     "text": [
      "Metal device set to: Apple M1\n"
     ]
    },
    {
     "name": "stderr",
     "output_type": "stream",
     "text": [
      "2022-03-24 16:32:24.102249: I tensorflow/core/platform/cpu_feature_guard.cc:151] This TensorFlow binary is optimized with oneAPI Deep Neural Network Library (oneDNN) to use the following CPU instructions in performance-critical operations:  SSE4.2\n",
      "To enable them in other operations, rebuild TensorFlow with the appropriate compiler flags.\n",
      "2022-03-24 16:32:24.120951: I tensorflow/core/common_runtime/pluggable_device/pluggable_device_factory.cc:305] Could not identify NUMA node of platform GPU ID 0, defaulting to 0. Your kernel may not have been built with NUMA support.\n",
      "2022-03-24 16:32:24.129092: I tensorflow/core/common_runtime/pluggable_device/pluggable_device_factory.cc:271] Created TensorFlow device (/job:localhost/replica:0/task:0/device:GPU:0 with 0 MB memory) -> physical PluggableDevice (device: 0, name: METAL, pci bus id: <undefined>)\n"
     ]
    }
   ],
   "source": [
    "n = 10\n",
    "\n",
    "reconstructed_ensemble1 = [0]*n\n",
    "reconstructed_ensemble2 = [0]*n\n",
    "reconstructed_ensemble3 = [0]*n\n",
    "\n",
    "for k in range(n):\n",
    "    reconstructed_ensemble1[k] = keras.models.load_model(os.path.join(ensemble_path , 'Ensemble1', f\"Ensemble1_model{k}\"))\n",
    "\n",
    "\n",
    "for k in range(n):\n",
    "    reconstructed_ensemble2[k] = keras.models.load_model(os.path.join(ensemble_path , 'Ensemble2', f\"Ensemble2_model{k}\"))\n",
    "\n",
    "\n",
    "for k in range(n):\n",
    "    reconstructed_ensemble3[k] = keras.models.load_model(os.path.join(ensemble_path , 'Ensemble3', f\"Ensemble3_model{k}\"))"
   ]
  },
  {
   "cell_type": "code",
   "execution_count": 10,
   "id": "5a068f21",
   "metadata": {},
   "outputs": [
    {
     "name": "stdout",
     "output_type": "stream",
     "text": [
      "Found 193 validated image filenames belonging to 7 classes.\n"
     ]
    }
   ],
   "source": [
    "batch_size = len(df18_val_t)\n",
    "dataframe=df18_val_t\n",
    "\n",
    "test_datagen=ImageDataGenerator(rescale=1./255.)\n",
    "\n",
    "test_generator=test_datagen.flow_from_dataframe(\n",
    "    dataframe=dataframe,\n",
    "    directory=test_path,\n",
    "    target_size=(128,128),\n",
    "    x_col=\"image_name\",\n",
    "    y_col='diagnosis',\n",
    "    batch_size=batch_size,\n",
    "    shuffle=False,\n",
    "    classes={\n",
    "        'akiec': 0,\n",
    "        'bcc': 1,\n",
    "        'bkl': 2,\n",
    "        'df': 3,\n",
    "        'mel': 4,\n",
    "        'nv': 5,\n",
    "        'vasc': 6\n",
    "        })\n",
    "\n",
    "STEP_SIZE_TEST=test_generator.n//test_generator.batch_size"
   ]
  },
  {
   "cell_type": "markdown",
   "id": "dc3d8517",
   "metadata": {},
   "source": [
    "## Predictions"
   ]
  },
  {
   "cell_type": "markdown",
   "id": "5ea168da",
   "metadata": {},
   "source": [
    "Prediction of 2018 validation data set using 2018 ensembles"
   ]
  },
  {
   "cell_type": "code",
   "execution_count": 22,
   "id": "d121b85e",
   "metadata": {},
   "outputs": [
    {
     "name": "stderr",
     "output_type": "stream",
     "text": [
      "<timed exec>:5: UserWarning: `Model.predict_generator` is deprecated and will be removed in a future version. Please use `Model.predict`, which supports generators.\n"
     ]
    },
    {
     "name": "stdout",
     "output_type": "stream",
     "text": [
      "ensemble 1\n",
      "Confusion Matrix\n",
      "[[  3   1   1   0   0   3   0]\n",
      " [  1  11   0   0   0   3   0]\n",
      " [  0   0   7   0   1  14   0]\n",
      " [  0   0   1   0   0   0   0]\n",
      " [  0   0   2   0   5  14   0]\n",
      " [  0   0   4   1   2 116   0]\n",
      " [  0   1   0   0   0   1   1]]\n",
      "Classification Report\n",
      "              precision    recall  f1-score   support\n",
      "\n",
      "       akiec       0.75      0.38      0.50         8\n",
      "         bcc       0.85      0.73      0.79        15\n",
      "         bkl       0.47      0.32      0.38        22\n",
      "          df       0.00      0.00      0.00         1\n",
      "         mel       0.62      0.24      0.34        21\n",
      "          nv       0.77      0.94      0.85       123\n",
      "        vasc       1.00      0.33      0.50         3\n",
      "\n",
      "    accuracy                           0.74       193\n",
      "   macro avg       0.64      0.42      0.48       193\n",
      "weighted avg       0.72      0.74      0.71       193\n",
      "\n",
      "CPU times: user 22.6 s, sys: 1.97 s, total: 24.5 s\n",
      "Wall time: 26.6 s\n"
     ]
    }
   ],
   "source": [
    "%%time\n",
    "results1 = np.zeros( (test_generator.samples,7) ) \n",
    "results1\n",
    "for j in range(n):\n",
    "    test_generator.reset()\n",
    "    results1 = results1 + reconstructed_ensemble1[j].predict_generator(test_generator, \n",
    "                                                           steps = STEP_SIZE_TEST)\n",
    "# Performing Max Voting\n",
    "results1 = np.argmax(results1,axis = 1)\n",
    "\n",
    "print('ensemble 1')\n",
    "print('Confusion Matrix')\n",
    "print(confusion_matrix(test_generator.classes, results1))\n",
    "print('Classification Report')\n",
    "target_names = ['akiec', 'bcc', 'bkl', 'df', 'mel', 'nv', 'vasc']\n",
    "print(classification_report(test_generator.classes, results1, target_names=target_names))"
   ]
  },
  {
   "cell_type": "code",
   "execution_count": 24,
   "id": "7c0ca899",
   "metadata": {},
   "outputs": [
    {
     "name": "stdout",
     "output_type": "stream",
     "text": [
      "ensemble 2\n",
      "Confusion Matrix\n",
      "[[  0   0   1   7   0   0   0]\n",
      " [  0   0   7   8   0   0   0]\n",
      " [  0   0   6  16   0   0   0]\n",
      " [  0   0   1   0   0   0   0]\n",
      " [  0   0   2  19   0   0   0]\n",
      " [  0   0  22 101   0   0   0]\n",
      " [  0   0   0   3   0   0   0]]\n",
      "Classification Report\n",
      "              precision    recall  f1-score   support\n",
      "\n",
      "       akiec       0.00      0.00      0.00         8\n",
      "         bcc       0.00      0.00      0.00        15\n",
      "         bkl       0.15      0.27      0.20        22\n",
      "          df       0.00      0.00      0.00         1\n",
      "         mel       0.00      0.00      0.00        21\n",
      "          nv       0.00      0.00      0.00       123\n",
      "        vasc       0.00      0.00      0.00         3\n",
      "\n",
      "    accuracy                           0.03       193\n",
      "   macro avg       0.02      0.04      0.03       193\n",
      "weighted avg       0.02      0.03      0.02       193\n",
      "\n",
      "CPU times: user 22.4 s, sys: 1.34 s, total: 23.8 s\n",
      "Wall time: 24.4 s\n"
     ]
    },
    {
     "name": "stderr",
     "output_type": "stream",
     "text": [
      "/Users/leoliang/opt/anaconda3/envs/tf/lib/python3.8/site-packages/sklearn/metrics/_classification.py:1318: UndefinedMetricWarning: Precision and F-score are ill-defined and being set to 0.0 in labels with no predicted samples. Use `zero_division` parameter to control this behavior.\n",
      "  _warn_prf(average, modifier, msg_start, len(result))\n",
      "/Users/leoliang/opt/anaconda3/envs/tf/lib/python3.8/site-packages/sklearn/metrics/_classification.py:1318: UndefinedMetricWarning: Precision and F-score are ill-defined and being set to 0.0 in labels with no predicted samples. Use `zero_division` parameter to control this behavior.\n",
      "  _warn_prf(average, modifier, msg_start, len(result))\n",
      "/Users/leoliang/opt/anaconda3/envs/tf/lib/python3.8/site-packages/sklearn/metrics/_classification.py:1318: UndefinedMetricWarning: Precision and F-score are ill-defined and being set to 0.0 in labels with no predicted samples. Use `zero_division` parameter to control this behavior.\n",
      "  _warn_prf(average, modifier, msg_start, len(result))\n"
     ]
    }
   ],
   "source": [
    "%%time\n",
    "results2 = np.zeros( (test_generator.samples,7) ) \n",
    "results2\n",
    "for j in range(n):\n",
    "    test_generator.reset()\n",
    "    results2 = results2 + reconstructed_ensemble2[j].predict(test_generator, \n",
    "                                                           steps = STEP_SIZE_TEST)\n",
    "# Performing Max Voting\n",
    "results2 = np.argmax(results2,axis = 1)\n",
    "\n",
    "print('ensemble 2')\n",
    "print('Confusion Matrix')\n",
    "print(confusion_matrix(test_generator.classes, results2))\n",
    "print('Classification Report')\n",
    "target_names = ['akiec', 'bcc', 'bkl', 'df', 'mel', 'nv', 'vasc']\n",
    "print(classification_report(test_generator.classes, results2\n",
    "                           , target_names=target_names\n",
    "                           ))"
   ]
  },
  {
   "cell_type": "code",
   "execution_count": 25,
   "id": "de15eb5d",
   "metadata": {},
   "outputs": [
    {
     "name": "stdout",
     "output_type": "stream",
     "text": [
      "ensemble 3\n",
      "Confusion Matrix\n",
      "[[  6   0   1   0   0   1   0]\n",
      " [  2  13   0   0   0   0   0]\n",
      " [  2   1  13   0   3   3   0]\n",
      " [  0   0   1   0   0   0   0]\n",
      " [  0   1   4   0  12   4   0]\n",
      " [  0   2  10   1   7 103   0]\n",
      " [  0   2   0   0   0   0   1]]\n",
      "Classification Report\n",
      "              precision    recall  f1-score   support\n",
      "\n",
      "       akiec       0.60      0.75      0.67         8\n",
      "         bcc       0.68      0.87      0.76        15\n",
      "         bkl       0.45      0.59      0.51        22\n",
      "          df       0.00      0.00      0.00         1\n",
      "         mel       0.55      0.57      0.56        21\n",
      "          nv       0.93      0.84      0.88       123\n",
      "        vasc       1.00      0.33      0.50         3\n",
      "\n",
      "    accuracy                           0.77       193\n",
      "   macro avg       0.60      0.56      0.55       193\n",
      "weighted avg       0.80      0.77      0.77       193\n",
      "\n",
      "CPU times: user 22.6 s, sys: 1.33 s, total: 23.9 s\n",
      "Wall time: 24.5 s\n"
     ]
    }
   ],
   "source": [
    "%%time\n",
    "results3 = np.zeros( (test_generator.samples,7) ) \n",
    "results3\n",
    "for j in range(n):\n",
    "    test_generator.reset()\n",
    "    results3 = results3 + reconstructed_ensemble3[j].predict(test_generator, \n",
    "                                                           steps = STEP_SIZE_TEST)\n",
    "# Performing Max Voting\n",
    "results3 = np.argmax(results3,axis = 1)\n",
    "\n",
    "print('ensemble 3')\n",
    "print('Confusion Matrix')\n",
    "print(confusion_matrix(test_generator.classes, results3))\n",
    "print('Classification Report')\n",
    "target_names = ['akiec', 'bcc', 'bkl', 'df', 'mel', 'nv', 'vasc']\n",
    "print(classification_report(test_generator.classes, results3\n",
    "                           , target_names=target_names\n",
    "                           ))"
   ]
  },
  {
   "cell_type": "code",
   "execution_count": null,
   "id": "8d511c1b",
   "metadata": {},
   "outputs": [],
   "source": []
  }
 ],
 "metadata": {
  "kernelspec": {
   "display_name": "Python 3 (ipykernel)",
   "language": "python",
   "name": "python3"
  },
  "language_info": {
   "codemirror_mode": {
    "name": "ipython",
    "version": 3
   },
   "file_extension": ".py",
   "mimetype": "text/x-python",
   "name": "python",
   "nbconvert_exporter": "python",
   "pygments_lexer": "ipython3",
   "version": "3.8.12"
  }
 },
 "nbformat": 4,
 "nbformat_minor": 5
}
