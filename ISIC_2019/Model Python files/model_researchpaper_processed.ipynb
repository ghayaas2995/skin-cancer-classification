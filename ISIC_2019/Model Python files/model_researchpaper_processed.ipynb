{
 "cells": [
  {
   "cell_type": "code",
   "execution_count": 1,
   "metadata": {},
   "outputs": [],
   "source": [
    "import keras\n",
    "import tensorflow as tf\n",
    "from tensorflow.keras.preprocessing.image import ImageDataGenerator\n",
    "import numpy as np\n",
    "import shutil\n",
    "from sklearn.metrics import classification_report, confusion_matrix\n",
    "from functools import partial\n",
    "from tensorflow.keras.layers import Input, Lambda, Dense, Flatten, Conv2D, MaxPool2D, Dropout\n",
    "from tensorflow.keras.models import Model, Sequential\n",
    "import tensorboard"
   ]
  },
  {
   "cell_type": "code",
   "execution_count": 2,
   "metadata": {},
   "outputs": [],
   "source": [
    "# Model 1: from research paper"
   ]
  },
  {
   "cell_type": "code",
   "execution_count": 3,
   "metadata": {},
   "outputs": [],
   "source": [
    "batch_size = 32\n",
    "img_height = 128\n",
    "img_width = 128"
   ]
  },
  {
   "cell_type": "code",
   "execution_count": 4,
   "metadata": {},
   "outputs": [],
   "source": [
    "model = Sequential()\n",
    "model.add(Conv2D(16, (3, 3), activation='relu', padding= 'same', input_shape=(img_height, img_width, 3)))\n",
    "model.add(MaxPool2D(pool_size=(2, 2)))\n",
    "\n",
    "model.add(Conv2D(32, (3, 3), activation='relu', padding= 'same'))\n",
    "model.add(MaxPool2D(pool_size=(2, 2)))\n",
    "\n",
    "model.add(Conv2D(64, (3, 3), activation='relu', padding= 'same'))\n",
    "model.add(MaxPool2D(pool_size=(2, 2)))\n",
    "\n",
    "model.add(Dropout(0.5))\n",
    "model.add(Flatten())\n",
    "model.add(Dense(units=8, activation = 'softmax'))"
   ]
  },
  {
   "cell_type": "code",
   "execution_count": 5,
   "metadata": {},
   "outputs": [
    {
     "name": "stdout",
     "output_type": "stream",
     "text": [
      "Model: \"sequential\"\n",
      "_________________________________________________________________\n",
      " Layer (type)                Output Shape              Param #   \n",
      "=================================================================\n",
      " conv2d (Conv2D)             (None, 128, 128, 16)      448       \n",
      "                                                                 \n",
      " max_pooling2d (MaxPooling2D  (None, 64, 64, 16)       0         \n",
      " )                                                               \n",
      "                                                                 \n",
      " conv2d_1 (Conv2D)           (None, 64, 64, 32)        4640      \n",
      "                                                                 \n",
      " max_pooling2d_1 (MaxPooling  (None, 32, 32, 32)       0         \n",
      " 2D)                                                             \n",
      "                                                                 \n",
      " conv2d_2 (Conv2D)           (None, 32, 32, 64)        18496     \n",
      "                                                                 \n",
      " max_pooling2d_2 (MaxPooling  (None, 16, 16, 64)       0         \n",
      " 2D)                                                             \n",
      "                                                                 \n",
      " dropout (Dropout)           (None, 16, 16, 64)        0         \n",
      "                                                                 \n",
      " flatten (Flatten)           (None, 16384)             0         \n",
      "                                                                 \n",
      " dense (Dense)               (None, 8)                 131080    \n",
      "                                                                 \n",
      "=================================================================\n",
      "Total params: 154,664\n",
      "Trainable params: 154,664\n",
      "Non-trainable params: 0\n",
      "_________________________________________________________________\n"
     ]
    }
   ],
   "source": [
    "model.compile(optimizer='adam', loss='categorical_crossentropy', metrics=['accuracy'])\n",
    "model.summary()"
   ]
  },
  {
   "cell_type": "code",
   "execution_count": 4,
   "metadata": {},
   "outputs": [
    {
     "name": "stdout",
     "output_type": "stream",
     "text": [
      "Found 72096 images belonging to 8 classes.\n",
      "Found 3799 images belonging to 8 classes.\n",
      "Found 3796 images belonging to 8 classes.\n"
     ]
    }
   ],
   "source": [
    "# load the augmented data from the local data directory:\n",
    "\n",
    "train_dir = \"Data/Processed_Data/train\"\n",
    "test_dir = \"Data/Processed_Data/test\"\n",
    "valid_dir = \"Data/Processed_Data/valid_processed\"\n",
    "\n",
    "datagen = ImageDataGenerator(rescale = 1./255) # The imported data will br normalized here.\n",
    "\n",
    "train_generator = datagen.flow_from_directory(\n",
    "    train_dir,\n",
    "    target_size=(img_height, img_width),\n",
    "    batch_size=batch_size,\n",
    "    color_mode='rgb',\n",
    "    class_mode='categorical',\n",
    "    seed=123,) # set as training data\n",
    "\n",
    "test_generator = datagen.flow_from_directory(\n",
    "    test_dir,\n",
    "    target_size=(img_height, img_width),\n",
    "    batch_size=batch_size,\n",
    "    color_mode='rgb',\n",
    "    class_mode='categorical',\n",
    "    seed=123,) # set as testing data\n",
    "\n",
    "validation_generator = datagen.flow_from_directory(\n",
    "    valid_dir,\n",
    "    target_size=(img_height, img_width),\n",
    "    batch_size=batch_size,\n",
    "    color_mode='rgb',\n",
    "    class_mode='categorical',\n",
    "    seed=123,) # set as validation data"
   ]
  },
  {
   "cell_type": "code",
   "execution_count": 7,
   "metadata": {},
   "outputs": [
    {
     "name": "stdout",
     "output_type": "stream",
     "text": [
      "Epoch 1/50\n"
     ]
    },
    {
     "name": "stderr",
     "output_type": "stream",
     "text": [
      "C:\\Users\\GHAYAAS\\AppData\\Local\\Temp/ipykernel_16352/3220806991.py:1: UserWarning: `Model.fit_generator` is deprecated and will be removed in a future version. Please use `Model.fit`, which supports generators.\n",
      "  r = model.fit_generator(\n"
     ]
    },
    {
     "name": "stdout",
     "output_type": "stream",
     "text": [
      "2253/2253 [==============================] - 153s 63ms/step - loss: 1.6292 - accuracy: 0.3880 - val_loss: 1.3437 - val_accuracy: 0.5379\n",
      "Epoch 2/50\n",
      "2253/2253 [==============================] - 138s 61ms/step - loss: 1.2803 - accuracy: 0.5253 - val_loss: 1.1568 - val_accuracy: 0.5662\n",
      "Epoch 3/50\n",
      "2253/2253 [==============================] - 144s 64ms/step - loss: 1.0120 - accuracy: 0.6162 - val_loss: 1.0282 - val_accuracy: 0.6022\n",
      "Epoch 4/50\n",
      "2253/2253 [==============================] - 120s 53ms/step - loss: 0.8880 - accuracy: 0.6563 - val_loss: 0.9577 - val_accuracy: 0.6380\n",
      "Epoch 5/50\n",
      "2253/2253 [==============================] - 126s 56ms/step - loss: 0.8174 - accuracy: 0.6828 - val_loss: 0.9834 - val_accuracy: 0.6245\n",
      "Epoch 6/50\n",
      "2253/2253 [==============================] - 115s 51ms/step - loss: 0.7783 - accuracy: 0.6969 - val_loss: 0.9961 - val_accuracy: 0.6131\n",
      "Epoch 7/50\n",
      "2253/2253 [==============================] - 109s 49ms/step - loss: 0.7402 - accuracy: 0.7105 - val_loss: 0.9529 - val_accuracy: 0.6515\n",
      "Epoch 8/50\n",
      "2253/2253 [==============================] - 109s 49ms/step - loss: 0.7101 - accuracy: 0.7208 - val_loss: 1.0542 - val_accuracy: 0.6065\n",
      "Epoch 9/50\n",
      "2253/2253 [==============================] - 108s 48ms/step - loss: 0.6909 - accuracy: 0.7297 - val_loss: 0.9249 - val_accuracy: 0.6454\n",
      "Epoch 10/50\n",
      "2253/2253 [==============================] - 106s 47ms/step - loss: 0.6677 - accuracy: 0.7398 - val_loss: 0.9731 - val_accuracy: 0.6314\n",
      "Epoch 11/50\n",
      "2253/2253 [==============================] - 115s 51ms/step - loss: 0.6447 - accuracy: 0.7472 - val_loss: 0.9949 - val_accuracy: 0.6282\n",
      "Epoch 12/50\n",
      "2253/2253 [==============================] - 105s 47ms/step - loss: 0.6353 - accuracy: 0.7518 - val_loss: 1.0084 - val_accuracy: 0.6274\n",
      "Epoch 13/50\n",
      "2253/2253 [==============================] - 107s 47ms/step - loss: 0.6219 - accuracy: 0.7572 - val_loss: 0.9467 - val_accuracy: 0.6594\n",
      "Epoch 14/50\n",
      "2253/2253 [==============================] - 105s 47ms/step - loss: 0.6067 - accuracy: 0.7614 - val_loss: 1.0087 - val_accuracy: 0.6308\n",
      "Epoch 15/50\n",
      "2253/2253 [==============================] - 97s 43ms/step - loss: 0.5917 - accuracy: 0.7690 - val_loss: 0.9368 - val_accuracy: 0.6528\n",
      "Epoch 16/50\n",
      "2253/2253 [==============================] - 103s 46ms/step - loss: 0.5887 - accuracy: 0.7700 - val_loss: 0.9516 - val_accuracy: 0.6496\n",
      "Epoch 17/50\n",
      "2253/2253 [==============================] - 101s 45ms/step - loss: 0.5730 - accuracy: 0.7764 - val_loss: 0.9526 - val_accuracy: 0.6502\n",
      "Epoch 18/50\n",
      "2253/2253 [==============================] - 97s 43ms/step - loss: 0.5620 - accuracy: 0.7830 - val_loss: 1.0464 - val_accuracy: 0.6152\n",
      "Epoch 19/50\n",
      "2253/2253 [==============================] - 96s 42ms/step - loss: 0.5587 - accuracy: 0.7836 - val_loss: 1.0412 - val_accuracy: 0.6269\n",
      "Epoch 20/50\n",
      "2253/2253 [==============================] - 95s 42ms/step - loss: 0.5498 - accuracy: 0.7864 - val_loss: 1.0091 - val_accuracy: 0.6510\n",
      "Epoch 21/50\n",
      "2253/2253 [==============================] - 95s 42ms/step - loss: 0.5404 - accuracy: 0.7891 - val_loss: 0.9993 - val_accuracy: 0.6510\n",
      "Epoch 22/50\n",
      "2253/2253 [==============================] - 98s 44ms/step - loss: 0.5339 - accuracy: 0.7915 - val_loss: 1.0455 - val_accuracy: 0.6314\n",
      "Epoch 23/50\n",
      "2253/2253 [==============================] - 125s 55ms/step - loss: 0.5276 - accuracy: 0.7948 - val_loss: 0.9946 - val_accuracy: 0.6496\n",
      "Epoch 24/50\n",
      "2253/2253 [==============================] - 117s 52ms/step - loss: 0.5213 - accuracy: 0.7970 - val_loss: 0.9998 - val_accuracy: 0.6422\n",
      "Epoch 25/50\n",
      "2253/2253 [==============================] - 112s 50ms/step - loss: 0.5155 - accuracy: 0.8009 - val_loss: 1.0107 - val_accuracy: 0.6615\n",
      "Epoch 26/50\n",
      "2253/2253 [==============================] - 121s 54ms/step - loss: 0.5130 - accuracy: 0.8036 - val_loss: 1.0440 - val_accuracy: 0.6451\n",
      "Epoch 27/50\n",
      "2253/2253 [==============================] - 117s 52ms/step - loss: 0.5059 - accuracy: 0.8043 - val_loss: 1.0456 - val_accuracy: 0.6555\n",
      "Epoch 28/50\n",
      "2253/2253 [==============================] - 126s 56ms/step - loss: 0.5002 - accuracy: 0.8066 - val_loss: 1.0034 - val_accuracy: 0.6517\n",
      "Epoch 29/50\n",
      "2253/2253 [==============================] - 114s 51ms/step - loss: 0.5054 - accuracy: 0.8046 - val_loss: 1.0072 - val_accuracy: 0.6549\n",
      "Epoch 30/50\n",
      "2253/2253 [==============================] - 116s 52ms/step - loss: 0.4956 - accuracy: 0.8109 - val_loss: 1.0427 - val_accuracy: 0.6457\n",
      "Epoch 31/50\n",
      "2253/2253 [==============================] - 123s 55ms/step - loss: 0.4945 - accuracy: 0.8089 - val_loss: 1.0550 - val_accuracy: 0.6282\n",
      "Epoch 32/50\n",
      "2253/2253 [==============================] - 117s 52ms/step - loss: 0.4897 - accuracy: 0.8104 - val_loss: 1.0675 - val_accuracy: 0.6427\n",
      "Epoch 33/50\n",
      "2253/2253 [==============================] - 126s 56ms/step - loss: 0.4882 - accuracy: 0.8120 - val_loss: 1.0710 - val_accuracy: 0.6430\n",
      "Epoch 34/50\n",
      "2253/2253 [==============================] - 112s 50ms/step - loss: 0.4822 - accuracy: 0.8151 - val_loss: 1.0721 - val_accuracy: 0.6502\n",
      "Epoch 35/50\n",
      "2253/2253 [==============================] - 114s 51ms/step - loss: 0.4811 - accuracy: 0.8139 - val_loss: 1.1037 - val_accuracy: 0.6269\n",
      "Epoch 36/50\n",
      "2253/2253 [==============================] - 133s 59ms/step - loss: 0.4750 - accuracy: 0.8168 - val_loss: 1.0304 - val_accuracy: 0.6586\n",
      "Epoch 37/50\n",
      "2253/2253 [==============================] - 104s 46ms/step - loss: 0.4716 - accuracy: 0.8186 - val_loss: 1.0553 - val_accuracy: 0.6592\n",
      "Epoch 38/50\n",
      "2253/2253 [==============================] - 103s 46ms/step - loss: 0.4735 - accuracy: 0.8171 - val_loss: 1.0910 - val_accuracy: 0.6380\n",
      "Epoch 39/50\n",
      "2253/2253 [==============================] - 96s 43ms/step - loss: 0.4719 - accuracy: 0.8198 - val_loss: 1.0689 - val_accuracy: 0.6465\n",
      "Epoch 40/50\n",
      "2253/2253 [==============================] - 96s 42ms/step - loss: 0.4695 - accuracy: 0.8194 - val_loss: 1.0495 - val_accuracy: 0.6414\n",
      "Epoch 41/50\n",
      "2253/2253 [==============================] - 95s 42ms/step - loss: 0.4622 - accuracy: 0.8222 - val_loss: 1.0295 - val_accuracy: 0.6517\n",
      "Epoch 42/50\n",
      "2253/2253 [==============================] - 94s 42ms/step - loss: 0.4612 - accuracy: 0.8215 - val_loss: 1.0936 - val_accuracy: 0.6510\n",
      "Epoch 43/50\n",
      "2253/2253 [==============================] - 95s 42ms/step - loss: 0.4577 - accuracy: 0.8247 - val_loss: 1.0969 - val_accuracy: 0.6430\n",
      "Epoch 44/50\n",
      "2253/2253 [==============================] - 101s 45ms/step - loss: 0.4500 - accuracy: 0.8264 - val_loss: 1.0269 - val_accuracy: 0.6525\n",
      "Epoch 45/50\n",
      "2253/2253 [==============================] - 97s 43ms/step - loss: 0.4587 - accuracy: 0.8243 - val_loss: 1.1299 - val_accuracy: 0.6438\n",
      "Epoch 46/50\n",
      "2253/2253 [==============================] - 96s 43ms/step - loss: 0.4527 - accuracy: 0.8251 - val_loss: 1.1312 - val_accuracy: 0.6523\n",
      "Epoch 47/50\n",
      "2253/2253 [==============================] - 95s 42ms/step - loss: 0.4536 - accuracy: 0.8255 - val_loss: 1.1923 - val_accuracy: 0.6457\n",
      "Epoch 48/50\n",
      "2253/2253 [==============================] - 94s 42ms/step - loss: 0.4530 - accuracy: 0.8267 - val_loss: 1.0965 - val_accuracy: 0.6507\n",
      "Epoch 49/50\n",
      "2253/2253 [==============================] - 94s 42ms/step - loss: 0.4471 - accuracy: 0.8290 - val_loss: 1.1043 - val_accuracy: 0.6478\n",
      "Epoch 50/50\n",
      "2253/2253 [==============================] - 101s 45ms/step - loss: 0.4458 - accuracy: 0.8294 - val_loss: 1.0900 - val_accuracy: 0.6570\n"
     ]
    }
   ],
   "source": [
    "r = model.fit_generator(\n",
    "    train_generator,\n",
    "    steps_per_epoch=train_generator.samples//batch_size,\n",
    "    validation_steps=validation_generator.samples//batch_size,\n",
    "    validation_data = validation_generator,\n",
    "    epochs = 50,\n",
    ")"
   ]
  },
  {
   "cell_type": "code",
   "execution_count": null,
   "metadata": {},
   "outputs": [],
   "source": [
    "#model.save('model_researchpaper_2019.h5')"
   ]
  },
  {
   "cell_type": "code",
   "execution_count": 5,
   "metadata": {},
   "outputs": [],
   "source": [
    "#model = tf.keras.models.load_model('model_researchpaper_2019.h5')"
   ]
  },
  {
   "cell_type": "code",
   "execution_count": null,
   "metadata": {},
   "outputs": [
    {
     "name": "stderr",
     "output_type": "stream",
     "text": [
      "C:\\Users\\GHAYAAS\\AppData\\Local\\Temp/ipykernel_14560/2098712288.py:2: UserWarning: `Model.predict_generator` is deprecated and will be removed in a future version. Please use `Model.predict`, which supports generators.\n",
      "  Y_pred = model.predict_generator(test_generator, test_generator.samples // batch_size+1)\n"
     ]
    }
   ],
   "source": [
    "#Confution Matrix and Classification Report\n",
    "Y_pred = model.predict_generator(test_generator, test_generator.samples // batch_size+1)\n",
    "y_pred = np.argmax(Y_pred, axis=1)\n",
    "print('Confusion Matrix')\n",
    "print(confusion_matrix(test_generator.classes, y_pred))\n",
    "print('Classification Report')\n",
    "target_names = ['ak', 'bcc', 'bkl', 'df', 'mel','nv', 'scc', 'vasc']\n",
    "print(classification_report(test_generator.classes, y_pred, target_names=target_names))"
   ]
  },
  {
   "cell_type": "code",
   "execution_count": null,
   "metadata": {},
   "outputs": [
    {
     "name": "stdout",
     "output_type": "stream",
     "text": [
      "0.05268703898840885\n"
     ]
    }
   ],
   "source": [
    "from sklearn.metrics import accuracy_score\n",
    "print(accuracy_score(test_generator.classes, y_pred))"
   ]
  },
  {
   "cell_type": "code",
   "execution_count": null,
   "metadata": {},
   "outputs": [],
   "source": [
    "from sklearn.metrics import balanced_accuracy_score\n",
    "print(balanced_accuracy_score(test_generator.classes, y_pred))"
   ]
  }
 ],
 "metadata": {
  "interpreter": {
   "hash": "f44f79be4d0dc56bf7df116bc850954564c4c4f443100900ede2fae667342428"
  },
  "kernelspec": {
   "display_name": "Python 3 (ipykernel)",
   "language": "python",
   "name": "python3"
  },
  "language_info": {
   "codemirror_mode": {
    "name": "ipython",
    "version": 3
   },
   "file_extension": ".py",
   "mimetype": "text/x-python",
   "name": "python",
   "nbconvert_exporter": "python",
   "pygments_lexer": "ipython3",
   "version": "3.9.7"
  }
 },
 "nbformat": 4,
 "nbformat_minor": 2
}
