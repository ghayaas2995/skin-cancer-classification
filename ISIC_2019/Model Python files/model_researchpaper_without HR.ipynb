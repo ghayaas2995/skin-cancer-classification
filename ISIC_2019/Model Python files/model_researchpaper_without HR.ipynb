{
 "cells": [
  {
   "cell_type": "code",
   "execution_count": 1,
   "metadata": {},
   "outputs": [],
   "source": [
    "import keras\n",
    "import tensorflow as tf\n",
    "from tensorflow.keras.preprocessing.image import ImageDataGenerator\n",
    "import numpy as np\n",
    "import shutil\n",
    "from sklearn.metrics import classification_report, confusion_matrix\n",
    "from functools import partial\n",
    "from tensorflow.keras.layers import Input, Lambda, Dense, Flatten, Conv2D, MaxPool2D, Dropout\n",
    "from tensorflow.keras.models import Model, Sequential\n",
    "import tensorboard"
   ]
  },
  {
   "cell_type": "code",
   "execution_count": 2,
   "metadata": {},
   "outputs": [],
   "source": [
    "# Model 1: from research paper\n",
    "# from the previous model, we got a traininig accuracy of about 82%. We feel that hair removal has distorted the\n",
    "# training images. therefore, in this model, we try to train with data without performing hair removal to check \n",
    "# the training process."
   ]
  },
  {
   "cell_type": "code",
   "execution_count": 3,
   "metadata": {},
   "outputs": [],
   "source": [
    "batch_size = 32\n",
    "img_height = 128\n",
    "img_width = 128"
   ]
  },
  {
   "cell_type": "code",
   "execution_count": 4,
   "metadata": {},
   "outputs": [],
   "source": [
    "model = Sequential()\n",
    "model.add(Conv2D(16, (3, 3), activation='relu', padding= 'same', input_shape=(img_height, img_width, 3)))\n",
    "model.add(MaxPool2D(pool_size=(2, 2)))\n",
    "\n",
    "model.add(Conv2D(32, (3, 3), activation='relu', padding= 'same'))\n",
    "model.add(MaxPool2D(pool_size=(2, 2)))\n",
    "\n",
    "model.add(Conv2D(64, (3, 3), activation='relu', padding= 'same'))\n",
    "model.add(MaxPool2D(pool_size=(2, 2)))\n",
    "\n",
    "model.add(Dropout(0.5))\n",
    "model.add(Flatten())\n",
    "model.add(Dense(units=8, activation = 'softmax'))"
   ]
  },
  {
   "cell_type": "code",
   "execution_count": 5,
   "metadata": {},
   "outputs": [
    {
     "name": "stdout",
     "output_type": "stream",
     "text": [
      "Model: \"sequential\"\n",
      "_________________________________________________________________\n",
      " Layer (type)                Output Shape              Param #   \n",
      "=================================================================\n",
      " conv2d (Conv2D)             (None, 128, 128, 16)      448       \n",
      "                                                                 \n",
      " max_pooling2d (MaxPooling2D  (None, 64, 64, 16)       0         \n",
      " )                                                               \n",
      "                                                                 \n",
      " conv2d_1 (Conv2D)           (None, 64, 64, 32)        4640      \n",
      "                                                                 \n",
      " max_pooling2d_1 (MaxPooling  (None, 32, 32, 32)       0         \n",
      " 2D)                                                             \n",
      "                                                                 \n",
      " conv2d_2 (Conv2D)           (None, 32, 32, 64)        18496     \n",
      "                                                                 \n",
      " max_pooling2d_2 (MaxPooling  (None, 16, 16, 64)       0         \n",
      " 2D)                                                             \n",
      "                                                                 \n",
      " dropout (Dropout)           (None, 16, 16, 64)        0         \n",
      "                                                                 \n",
      " flatten (Flatten)           (None, 16384)             0         \n",
      "                                                                 \n",
      " dense (Dense)               (None, 8)                 131080    \n",
      "                                                                 \n",
      "=================================================================\n",
      "Total params: 154,664\n",
      "Trainable params: 154,664\n",
      "Non-trainable params: 0\n",
      "_________________________________________________________________\n"
     ]
    }
   ],
   "source": [
    "model.compile(optimizer='adam', loss='categorical_crossentropy', metrics=['accuracy'])\n",
    "model.summary()"
   ]
  },
  {
   "cell_type": "code",
   "execution_count": 6,
   "metadata": {},
   "outputs": [
    {
     "name": "stdout",
     "output_type": "stream",
     "text": [
      "Found 72096 images belonging to 8 classes.\n",
      "Found 3799 images belonging to 8 classes.\n",
      "Found 3796 images belonging to 8 classes.\n"
     ]
    }
   ],
   "source": [
    "# load the augmented data from the local data directory:\n",
    "\n",
    "train_dir = \"Data/train_augmented\"\n",
    "test_dir = \"Data/Processed_Data/test\"\n",
    "valid_dir = \"Data/Processed_Data/valid\"\n",
    "\n",
    "datagen = ImageDataGenerator(rescale = 1./255) # The imported data will be normalized here.\n",
    "\n",
    "train_generator = datagen.flow_from_directory(\n",
    "    train_dir,\n",
    "    target_size=(img_height, img_width),\n",
    "    batch_size=batch_size,\n",
    "    color_mode='rgb',\n",
    "    class_mode='categorical',\n",
    "    seed=123,) # set as training data\n",
    "\n",
    "test_generator = datagen.flow_from_directory(\n",
    "    test_dir,\n",
    "    target_size=(img_height, img_width),\n",
    "    batch_size=batch_size,\n",
    "    color_mode='rgb',\n",
    "    class_mode='categorical',\n",
    "    seed=123,) # set as testing data\n",
    "\n",
    "validation_generator = datagen.flow_from_directory(\n",
    "    valid_dir,\n",
    "    target_size=(img_height, img_width),\n",
    "    batch_size=batch_size,\n",
    "    color_mode='rgb',\n",
    "    class_mode='categorical',\n",
    "    seed=123,) # set as validation data"
   ]
  },
  {
   "cell_type": "code",
   "execution_count": 7,
   "metadata": {},
   "outputs": [
    {
     "name": "stderr",
     "output_type": "stream",
     "text": [
      "C:\\Users\\GHAYAAS\\AppData\\Local\\Temp/ipykernel_10608/3220806991.py:1: UserWarning: `Model.fit_generator` is deprecated and will be removed in a future version. Please use `Model.fit`, which supports generators.\n",
      "  r = model.fit_generator(\n"
     ]
    },
    {
     "name": "stdout",
     "output_type": "stream",
     "text": [
      "Epoch 1/50\n",
      "2253/2253 [==============================] - 177s 74ms/step - loss: 1.6283 - accuracy: 0.3847 - val_loss: 1.4999 - val_accuracy: 0.4486\n",
      "Epoch 2/50\n",
      "2253/2253 [==============================] - 154s 68ms/step - loss: 1.3972 - accuracy: 0.4795 - val_loss: 1.2944 - val_accuracy: 0.5384\n",
      "Epoch 3/50\n",
      "2253/2253 [==============================] - 163s 72ms/step - loss: 1.2803 - accuracy: 0.5265 - val_loss: 1.2320 - val_accuracy: 0.5440\n",
      "Epoch 4/50\n",
      "2253/2253 [==============================] - 153s 68ms/step - loss: 1.1986 - accuracy: 0.5555 - val_loss: 1.1504 - val_accuracy: 0.5887\n",
      "Epoch 5/50\n",
      "2253/2253 [==============================] - 145s 64ms/step - loss: 1.1384 - accuracy: 0.5805 - val_loss: 1.1755 - val_accuracy: 0.5760\n",
      "Epoch 6/50\n",
      "2253/2253 [==============================] - 150s 66ms/step - loss: 1.0952 - accuracy: 0.5950 - val_loss: 1.2578 - val_accuracy: 0.5344\n",
      "Epoch 7/50\n",
      "2253/2253 [==============================] - 142s 63ms/step - loss: 1.0538 - accuracy: 0.6125 - val_loss: 1.1673 - val_accuracy: 0.5776\n",
      "Epoch 8/50\n",
      "2253/2253 [==============================] - 147s 65ms/step - loss: 1.0198 - accuracy: 0.6241 - val_loss: 1.1733 - val_accuracy: 0.5824\n",
      "Epoch 9/50\n",
      "2253/2253 [==============================] - 137s 61ms/step - loss: 1.0003 - accuracy: 0.6305 - val_loss: 1.1364 - val_accuracy: 0.5956\n",
      "Epoch 10/50\n",
      "2253/2253 [==============================] - 140s 62ms/step - loss: 0.9683 - accuracy: 0.6429 - val_loss: 1.2004 - val_accuracy: 0.5776\n",
      "Epoch 11/50\n",
      "2253/2253 [==============================] - 134s 60ms/step - loss: 0.9501 - accuracy: 0.6502 - val_loss: 1.1442 - val_accuracy: 0.6028\n",
      "Epoch 12/50\n",
      "2253/2253 [==============================] - 137s 61ms/step - loss: 0.9322 - accuracy: 0.6577 - val_loss: 1.1822 - val_accuracy: 0.5985\n",
      "Epoch 13/50\n",
      "2253/2253 [==============================] - 140s 62ms/step - loss: 0.9169 - accuracy: 0.6634 - val_loss: 1.2050 - val_accuracy: 0.5792\n",
      "Epoch 14/50\n",
      "2253/2253 [==============================] - 135s 60ms/step - loss: 0.9015 - accuracy: 0.6698 - val_loss: 1.1578 - val_accuracy: 0.6051\n",
      "Epoch 15/50\n",
      "2253/2253 [==============================] - 135s 60ms/step - loss: 0.8846 - accuracy: 0.6776 - val_loss: 1.1857 - val_accuracy: 0.5935\n",
      "Epoch 16/50\n",
      "2253/2253 [==============================] - 134s 60ms/step - loss: 0.8742 - accuracy: 0.6807 - val_loss: 1.1210 - val_accuracy: 0.6194\n",
      "Epoch 17/50\n",
      "2253/2253 [==============================] - 141s 63ms/step - loss: 0.8597 - accuracy: 0.6847 - val_loss: 1.1633 - val_accuracy: 0.6062\n",
      "Epoch 18/50\n",
      "2253/2253 [==============================] - 135s 60ms/step - loss: 0.8495 - accuracy: 0.6900 - val_loss: 1.1986 - val_accuracy: 0.5932\n",
      "Epoch 19/50\n",
      "2253/2253 [==============================] - 135s 60ms/step - loss: 0.8345 - accuracy: 0.6935 - val_loss: 1.2031 - val_accuracy: 0.6017\n",
      "Epoch 20/50\n",
      "2253/2253 [==============================] - 137s 61ms/step - loss: 0.8238 - accuracy: 0.6966 - val_loss: 1.1708 - val_accuracy: 0.6216\n",
      "Epoch 21/50\n",
      "2253/2253 [==============================] - 125s 56ms/step - loss: 0.8157 - accuracy: 0.7020 - val_loss: 1.1600 - val_accuracy: 0.6012\n",
      "Epoch 22/50\n",
      "2253/2253 [==============================] - 128s 57ms/step - loss: 0.8075 - accuracy: 0.7026 - val_loss: 1.2404 - val_accuracy: 0.5922\n",
      "Epoch 23/50\n",
      "2253/2253 [==============================] - 126s 56ms/step - loss: 0.8002 - accuracy: 0.7058 - val_loss: 1.2272 - val_accuracy: 0.6057\n",
      "Epoch 24/50\n",
      "2253/2253 [==============================] - 125s 55ms/step - loss: 0.7879 - accuracy: 0.7118 - val_loss: 1.2679 - val_accuracy: 0.5885\n",
      "Epoch 25/50\n",
      "2253/2253 [==============================] - 129s 57ms/step - loss: 0.7829 - accuracy: 0.7138 - val_loss: 1.2526 - val_accuracy: 0.5900\n",
      "Epoch 26/50\n",
      "2253/2253 [==============================] - 132s 59ms/step - loss: 0.7711 - accuracy: 0.7173 - val_loss: 1.2018 - val_accuracy: 0.5964\n",
      "Epoch 27/50\n",
      "2253/2253 [==============================] - 132s 58ms/step - loss: 0.7667 - accuracy: 0.7199 - val_loss: 1.1222 - val_accuracy: 0.6255\n",
      "Epoch 28/50\n",
      "2253/2253 [==============================] - 128s 57ms/step - loss: 0.7574 - accuracy: 0.7206 - val_loss: 1.2373 - val_accuracy: 0.5945\n",
      "Epoch 29/50\n",
      "2253/2253 [==============================] - 119s 53ms/step - loss: 0.7593 - accuracy: 0.7219 - val_loss: 1.2012 - val_accuracy: 0.5990\n",
      "Epoch 30/50\n",
      "2253/2253 [==============================] - 122s 54ms/step - loss: 0.7496 - accuracy: 0.7251 - val_loss: 1.2057 - val_accuracy: 0.6067\n",
      "Epoch 31/50\n",
      "2253/2253 [==============================] - 119s 53ms/step - loss: 0.7464 - accuracy: 0.7289 - val_loss: 1.2144 - val_accuracy: 0.6139\n",
      "Epoch 32/50\n",
      "2253/2253 [==============================] - 113s 50ms/step - loss: 0.7449 - accuracy: 0.7267 - val_loss: 1.2411 - val_accuracy: 0.5890\n",
      "Epoch 33/50\n",
      "2253/2253 [==============================] - 109s 48ms/step - loss: 0.7423 - accuracy: 0.7267 - val_loss: 1.1714 - val_accuracy: 0.6126\n",
      "Epoch 34/50\n",
      "2253/2253 [==============================] - 111s 49ms/step - loss: 0.7312 - accuracy: 0.7327 - val_loss: 1.1991 - val_accuracy: 0.6033\n",
      "Epoch 35/50\n",
      "2253/2253 [==============================] - 110s 49ms/step - loss: 0.7239 - accuracy: 0.7343 - val_loss: 1.1758 - val_accuracy: 0.6284\n",
      "Epoch 36/50\n",
      "2253/2253 [==============================] - 117s 52ms/step - loss: 0.7225 - accuracy: 0.7354 - val_loss: 1.2091 - val_accuracy: 0.6168\n",
      "Epoch 37/50\n",
      "2253/2253 [==============================] - 118s 52ms/step - loss: 0.7144 - accuracy: 0.7383 - val_loss: 1.2599 - val_accuracy: 0.6059\n",
      "Epoch 38/50\n",
      "2253/2253 [==============================] - 132s 59ms/step - loss: 0.7087 - accuracy: 0.7417 - val_loss: 1.2403 - val_accuracy: 0.6139\n",
      "Epoch 39/50\n",
      "2253/2253 [==============================] - 123s 55ms/step - loss: 0.7095 - accuracy: 0.7394 - val_loss: 1.1892 - val_accuracy: 0.6210\n",
      "Epoch 40/50\n",
      "2253/2253 [==============================] - 120s 53ms/step - loss: 0.7088 - accuracy: 0.7421 - val_loss: 1.2804 - val_accuracy: 0.5983\n",
      "Epoch 41/50\n",
      "2253/2253 [==============================] - 123s 54ms/step - loss: 0.7067 - accuracy: 0.7404 - val_loss: 1.2022 - val_accuracy: 0.6202\n",
      "Epoch 42/50\n",
      "2253/2253 [==============================] - 119s 53ms/step - loss: 0.7011 - accuracy: 0.7437 - val_loss: 1.1814 - val_accuracy: 0.6115\n",
      "Epoch 43/50\n",
      "2253/2253 [==============================] - 116s 52ms/step - loss: 0.6933 - accuracy: 0.7473 - val_loss: 1.2139 - val_accuracy: 0.6009\n",
      "Epoch 44/50\n",
      "2253/2253 [==============================] - 117s 52ms/step - loss: 0.7026 - accuracy: 0.7427 - val_loss: 1.2061 - val_accuracy: 0.6126\n",
      "Epoch 45/50\n",
      "2253/2253 [==============================] - 120s 53ms/step - loss: 0.6937 - accuracy: 0.7452 - val_loss: 1.2124 - val_accuracy: 0.6096\n",
      "Epoch 46/50\n",
      "2253/2253 [==============================] - 140s 62ms/step - loss: 0.6893 - accuracy: 0.7478 - val_loss: 1.1946 - val_accuracy: 0.6128\n",
      "Epoch 47/50\n",
      "2253/2253 [==============================] - 121s 54ms/step - loss: 0.6886 - accuracy: 0.7471 - val_loss: 1.2438 - val_accuracy: 0.6147\n",
      "Epoch 48/50\n",
      "2253/2253 [==============================] - 121s 54ms/step - loss: 0.6867 - accuracy: 0.7488 - val_loss: 1.2553 - val_accuracy: 0.6078\n",
      "Epoch 49/50\n",
      "2253/2253 [==============================] - 158s 70ms/step - loss: 0.6835 - accuracy: 0.7506 - val_loss: 1.3285 - val_accuracy: 0.5826\n",
      "Epoch 50/50\n",
      "2253/2253 [==============================] - 138s 61ms/step - loss: 0.6791 - accuracy: 0.7498 - val_loss: 1.3141 - val_accuracy: 0.5969\n"
     ]
    }
   ],
   "source": [
    "r = model.fit_generator(\n",
    "    train_generator,\n",
    "    steps_per_epoch=train_generator.samples//batch_size,\n",
    "    validation_steps=validation_generator.samples//batch_size,\n",
    "    validation_data = validation_generator,\n",
    "    epochs = 50,\n",
    ")"
   ]
  },
  {
   "cell_type": "code",
   "execution_count": null,
   "metadata": {},
   "outputs": [],
   "source": [
    "#model.save('model_without_HR_2019.h5')"
   ]
  },
  {
   "cell_type": "code",
   "execution_count": 4,
   "metadata": {},
   "outputs": [],
   "source": [
    "#model = tf.keras.models.load_model('model_without_HR_2019.h5')"
   ]
  },
  {
   "cell_type": "code",
   "execution_count": 7,
   "metadata": {},
   "outputs": [
    {
     "name": "stderr",
     "output_type": "stream",
     "text": [
      "C:\\Users\\GHAYAAS\\AppData\\Local\\Temp/ipykernel_7388/2098712288.py:2: UserWarning: `Model.predict_generator` is deprecated and will be removed in a future version. Please use `Model.predict`, which supports generators.\n",
      "  Y_pred = model.predict_generator(test_generator, test_generator.samples // batch_size+1)\n"
     ]
    },
    {
     "name": "stdout",
     "output_type": "stream",
     "text": [
      "Confusion Matrix\n",
      "[[ 10  18  14   4  26  54   1   3]\n",
      " [ 30  56  60   4 113 213  15   7]\n",
      " [ 26  58  45   3  87 149  18   8]\n",
      " [  6   4   3   0   8  14   1   0]\n",
      " [ 54 124  66  10 118 267  28  11]\n",
      " [162 284 208  26 396 776  53  26]\n",
      " [ 10  13  13   1  14  41   1   1]\n",
      " [  7   4   2   0   6  18   1   0]]\n",
      "Classification Report\n",
      "              precision    recall  f1-score   support\n",
      "\n",
      "          ak       0.03      0.08      0.05       130\n",
      "         bcc       0.10      0.11      0.11       498\n",
      "         bkl       0.11      0.11      0.11       394\n",
      "          df       0.00      0.00      0.00        36\n",
      "         mel       0.15      0.17      0.16       678\n",
      "          nv       0.51      0.40      0.45      1931\n",
      "         scc       0.01      0.01      0.01        94\n",
      "        vasc       0.00      0.00      0.00        38\n",
      "\n",
      "    accuracy                           0.26      3799\n",
      "   macro avg       0.11      0.11      0.11      3799\n",
      "weighted avg       0.31      0.26      0.28      3799\n",
      "\n"
     ]
    }
   ],
   "source": [
    "#Confution Matrix and Classification Report\n",
    "Y_pred = model.predict_generator(test_generator, test_generator.samples // batch_size+1)\n",
    "y_pred = np.argmax(Y_pred, axis=1)\n",
    "print('Confusion Matrix')\n",
    "print(confusion_matrix(test_generator.classes, y_pred))\n",
    "print('Classification Report')\n",
    "target_names = ['ak', 'bcc', 'bkl', 'df', 'mel','nv', 'scc', 'vasc']\n",
    "print(classification_report(test_generator.classes, y_pred, target_names=target_names))"
   ]
  },
  {
   "cell_type": "code",
   "execution_count": 8,
   "metadata": {},
   "outputs": [
    {
     "name": "stdout",
     "output_type": "stream",
     "text": [
      "0.2648065280336931\n"
     ]
    }
   ],
   "source": [
    "from sklearn.metrics import accuracy_score\n",
    "print(accuracy_score(test_generator.classes, y_pred))"
   ]
  },
  {
   "cell_type": "code",
   "execution_count": 9,
   "metadata": {},
   "outputs": [
    {
     "name": "stdout",
     "output_type": "stream",
     "text": [
      "0.11126624861281842\n"
     ]
    }
   ],
   "source": [
    "from sklearn.metrics import balanced_accuracy_score\n",
    "print(balanced_accuracy_score(test_generator.classes, y_pred))"
   ]
  },
  {
   "cell_type": "code",
   "execution_count": null,
   "metadata": {},
   "outputs": [],
   "source": []
  }
 ],
 "metadata": {
  "interpreter": {
   "hash": "f44f79be4d0dc56bf7df116bc850954564c4c4f443100900ede2fae667342428"
  },
  "kernelspec": {
   "display_name": "Python 3.9.7 ('tf-gpu')",
   "language": "python",
   "name": "python3"
  },
  "language_info": {
   "codemirror_mode": {
    "name": "ipython",
    "version": 3
   },
   "file_extension": ".py",
   "mimetype": "text/x-python",
   "name": "python",
   "nbconvert_exporter": "python",
   "pygments_lexer": "ipython3",
   "version": "3.9.7"
  },
  "orig_nbformat": 4
 },
 "nbformat": 4,
 "nbformat_minor": 2
}
