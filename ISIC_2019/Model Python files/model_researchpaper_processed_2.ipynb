{
 "cells": [
  {
   "cell_type": "code",
   "execution_count": 2,
   "metadata": {},
   "outputs": [],
   "source": [
    "import keras\n",
    "import tensorflow as tf\n",
    "from tensorflow.keras.preprocessing.image import ImageDataGenerator\n",
    "import numpy as np\n",
    "import shutil\n",
    "from sklearn.metrics import classification_report, confusion_matrix\n",
    "from functools import partial\n",
    "from tensorflow.keras.layers import Input, Lambda, Dense, Flatten, Conv2D, MaxPool2D, Dropout\n",
    "from tensorflow.keras.models import Model, Sequential\n",
    "import tensorboard\n",
    "import os"
   ]
  },
  {
   "cell_type": "code",
   "execution_count": 3,
   "metadata": {},
   "outputs": [],
   "source": [
    "# Model 1: from research paper. training data is 72096 images whereas the validation is 3799\n",
    "# this means that the validation data is only about 5% of the training data which is insufficient.\n",
    "# Therefore, in this model, we are providing a 25% split on the training images to be used as validation data"
   ]
  },
  {
   "cell_type": "code",
   "execution_count": 4,
   "metadata": {},
   "outputs": [],
   "source": [
    "batch_size = 32\n",
    "img_height = 128\n",
    "img_width = 128"
   ]
  },
  {
   "cell_type": "code",
   "execution_count": 4,
   "metadata": {},
   "outputs": [],
   "source": [
    "model = Sequential()\n",
    "model.add(Conv2D(16, (3, 3), activation='relu', padding= 'same', input_shape=(img_height, img_width, 3)))\n",
    "model.add(MaxPool2D(pool_size=(2, 2)))\n",
    "\n",
    "model.add(Conv2D(32, (3, 3), activation='relu', padding= 'same'))\n",
    "model.add(MaxPool2D(pool_size=(2, 2)))\n",
    "\n",
    "model.add(Conv2D(64, (3, 3), activation='relu', padding= 'same'))\n",
    "model.add(MaxPool2D(pool_size=(2, 2)))\n",
    "\n",
    "model.add(Dropout(0.5))\n",
    "model.add(Flatten())\n",
    "model.add(Dense(units=8, activation = 'softmax'))"
   ]
  },
  {
   "cell_type": "code",
   "execution_count": 5,
   "metadata": {},
   "outputs": [
    {
     "name": "stdout",
     "output_type": "stream",
     "text": [
      "Model: \"sequential\"\n",
      "_________________________________________________________________\n",
      " Layer (type)                Output Shape              Param #   \n",
      "=================================================================\n",
      " conv2d (Conv2D)             (None, 128, 128, 16)      448       \n",
      "                                                                 \n",
      " max_pooling2d (MaxPooling2D  (None, 64, 64, 16)       0         \n",
      " )                                                               \n",
      "                                                                 \n",
      " conv2d_1 (Conv2D)           (None, 64, 64, 32)        4640      \n",
      "                                                                 \n",
      " max_pooling2d_1 (MaxPooling  (None, 32, 32, 32)       0         \n",
      " 2D)                                                             \n",
      "                                                                 \n",
      " conv2d_2 (Conv2D)           (None, 32, 32, 64)        18496     \n",
      "                                                                 \n",
      " max_pooling2d_2 (MaxPooling  (None, 16, 16, 64)       0         \n",
      " 2D)                                                             \n",
      "                                                                 \n",
      " dropout (Dropout)           (None, 16, 16, 64)        0         \n",
      "                                                                 \n",
      " flatten (Flatten)           (None, 16384)             0         \n",
      "                                                                 \n",
      " dense (Dense)               (None, 8)                 131080    \n",
      "                                                                 \n",
      "=================================================================\n",
      "Total params: 154,664\n",
      "Trainable params: 154,664\n",
      "Non-trainable params: 0\n",
      "_________________________________________________________________\n"
     ]
    }
   ],
   "source": [
    "model.compile(optimizer='adam', loss='categorical_crossentropy', metrics=['accuracy'])\n",
    "model.summary()"
   ]
  },
  {
   "cell_type": "code",
   "execution_count": 5,
   "metadata": {},
   "outputs": [
    {
     "name": "stdout",
     "output_type": "stream",
     "text": [
      "Found 54072 images belonging to 8 classes.\n",
      "Found 18024 images belonging to 8 classes.\n",
      "Found 3799 images belonging to 8 classes.\n"
     ]
    }
   ],
   "source": [
    "# load the augmented data from the local data directory:\n",
    "\n",
    "train_dir = \"Data/Processed_Data/train\"\n",
    "test_dir = \"Data/Processed_Data/test\"\n",
    "\n",
    "datagen = ImageDataGenerator(rescale = 1./255, validation_split= 0.25) # The imported data will br normalized here.\n",
    "test_datagen = ImageDataGenerator(rescale = 1./255)\n",
    "\n",
    "train_generator = datagen.flow_from_directory(\n",
    "    train_dir,\n",
    "    target_size=(img_height, img_width),\n",
    "    batch_size=batch_size,\n",
    "    color_mode='rgb',\n",
    "    class_mode='categorical',\n",
    "    seed=123, subset = 'training') # set as training data\n",
    "\n",
    "validation_generator = datagen.flow_from_directory(\n",
    "    train_dir,\n",
    "    target_size=(img_height, img_width),\n",
    "    batch_size=batch_size,\n",
    "    color_mode='rgb',\n",
    "    class_mode='categorical',\n",
    "    seed=123, subset = 'validation') # set as validation data\n",
    "\n",
    "test_generator = test_datagen.flow_from_directory(\n",
    "    test_dir,\n",
    "    target_size=(img_height, img_width),\n",
    "    batch_size=batch_size,\n",
    "    color_mode='rgb',\n",
    "    class_mode='categorical',\n",
    "    seed=123,) # set as testing data"
   ]
  },
  {
   "cell_type": "code",
   "execution_count": 7,
   "metadata": {},
   "outputs": [
    {
     "name": "stderr",
     "output_type": "stream",
     "text": [
      "C:\\Users\\GHAYAAS\\AppData\\Local\\Temp/ipykernel_16344/3220806991.py:1: UserWarning: `Model.fit_generator` is deprecated and will be removed in a future version. Please use `Model.fit`, which supports generators.\n",
      "  r = model.fit_generator(\n"
     ]
    },
    {
     "name": "stdout",
     "output_type": "stream",
     "text": [
      "Epoch 1/50\n",
      "1689/1689 [==============================] - 183s 99ms/step - loss: 1.6460 - accuracy: 0.3833 - val_loss: 1.6240 - val_accuracy: 0.3996\n",
      "Epoch 2/50\n",
      "1689/1689 [==============================] - 138s 82ms/step - loss: 1.2910 - accuracy: 0.5294 - val_loss: 1.3908 - val_accuracy: 0.4820\n",
      "Epoch 3/50\n",
      "1689/1689 [==============================] - 129s 76ms/step - loss: 1.0470 - accuracy: 0.6103 - val_loss: 1.3595 - val_accuracy: 0.4999\n",
      "Epoch 4/50\n",
      "1689/1689 [==============================] - 129s 76ms/step - loss: 0.9263 - accuracy: 0.6514 - val_loss: 1.3481 - val_accuracy: 0.5185\n",
      "Epoch 5/50\n",
      "1689/1689 [==============================] - 134s 79ms/step - loss: 0.8409 - accuracy: 0.6804 - val_loss: 1.2153 - val_accuracy: 0.5475\n",
      "Epoch 6/50\n",
      "1689/1689 [==============================] - 118s 70ms/step - loss: 0.7835 - accuracy: 0.6997 - val_loss: 1.4436 - val_accuracy: 0.5235\n",
      "Epoch 7/50\n",
      "1689/1689 [==============================] - 117s 69ms/step - loss: 0.7385 - accuracy: 0.7160 - val_loss: 1.2024 - val_accuracy: 0.5576\n",
      "Epoch 8/50\n",
      "1689/1689 [==============================] - 150s 89ms/step - loss: 0.7057 - accuracy: 0.7308 - val_loss: 1.2369 - val_accuracy: 0.5518\n",
      "Epoch 9/50\n",
      "1689/1689 [==============================] - 135s 80ms/step - loss: 0.6793 - accuracy: 0.7403 - val_loss: 1.6104 - val_accuracy: 0.5266\n",
      "Epoch 10/50\n",
      "1689/1689 [==============================] - 119s 71ms/step - loss: 0.6567 - accuracy: 0.7480 - val_loss: 1.3480 - val_accuracy: 0.5632\n",
      "Epoch 11/50\n",
      "1689/1689 [==============================] - 110s 65ms/step - loss: 0.6322 - accuracy: 0.7559 - val_loss: 1.3485 - val_accuracy: 0.5677\n",
      "Epoch 12/50\n",
      "1689/1689 [==============================] - 113s 67ms/step - loss: 0.6108 - accuracy: 0.7647 - val_loss: 1.3495 - val_accuracy: 0.5740\n",
      "Epoch 13/50\n",
      "1689/1689 [==============================] - 124s 74ms/step - loss: 0.5968 - accuracy: 0.7698 - val_loss: 1.3777 - val_accuracy: 0.5661\n",
      "Epoch 14/50\n",
      "1689/1689 [==============================] - 160s 95ms/step - loss: 0.5837 - accuracy: 0.7746 - val_loss: 1.6856 - val_accuracy: 0.5495\n",
      "Epoch 15/50\n",
      "1689/1689 [==============================] - 93s 55ms/step - loss: 0.5728 - accuracy: 0.7797 - val_loss: 1.5581 - val_accuracy: 0.5598\n",
      "Epoch 16/50\n",
      "1689/1689 [==============================] - 85s 51ms/step - loss: 0.5648 - accuracy: 0.7812 - val_loss: 1.6266 - val_accuracy: 0.5639\n",
      "Epoch 17/50\n",
      "1689/1689 [==============================] - 89s 53ms/step - loss: 0.5510 - accuracy: 0.7871 - val_loss: 1.5402 - val_accuracy: 0.5764\n",
      "Epoch 18/50\n",
      "1689/1689 [==============================] - 86s 51ms/step - loss: 0.5373 - accuracy: 0.7917 - val_loss: 1.6768 - val_accuracy: 0.5465\n",
      "Epoch 19/50\n",
      "1689/1689 [==============================] - 128s 76ms/step - loss: 0.5293 - accuracy: 0.7982 - val_loss: 1.3485 - val_accuracy: 0.5930\n",
      "Epoch 20/50\n",
      "1689/1689 [==============================] - 120s 71ms/step - loss: 0.5228 - accuracy: 0.7986 - val_loss: 1.7197 - val_accuracy: 0.5662\n",
      "Epoch 21/50\n",
      "1689/1689 [==============================] - 123s 73ms/step - loss: 0.5099 - accuracy: 0.8056 - val_loss: 1.5426 - val_accuracy: 0.5782\n",
      "Epoch 22/50\n",
      "1689/1689 [==============================] - 124s 73ms/step - loss: 0.5036 - accuracy: 0.8065 - val_loss: 1.4407 - val_accuracy: 0.5855\n",
      "Epoch 23/50\n",
      "1689/1689 [==============================] - 123s 73ms/step - loss: 0.5045 - accuracy: 0.8083 - val_loss: 1.5374 - val_accuracy: 0.5907\n",
      "Epoch 24/50\n",
      "1689/1689 [==============================] - 128s 76ms/step - loss: 0.4912 - accuracy: 0.8105 - val_loss: 1.7556 - val_accuracy: 0.5440\n",
      "Epoch 25/50\n",
      "1689/1689 [==============================] - 124s 73ms/step - loss: 0.4917 - accuracy: 0.8126 - val_loss: 1.4711 - val_accuracy: 0.5910\n",
      "Epoch 26/50\n",
      "1689/1689 [==============================] - 120s 71ms/step - loss: 0.4788 - accuracy: 0.8167 - val_loss: 1.6948 - val_accuracy: 0.5528\n",
      "Epoch 27/50\n",
      "1689/1689 [==============================] - 120s 71ms/step - loss: 0.4782 - accuracy: 0.8170 - val_loss: 1.5416 - val_accuracy: 0.5659\n",
      "Epoch 28/50\n",
      "1689/1689 [==============================] - 119s 71ms/step - loss: 0.4753 - accuracy: 0.8175 - val_loss: 1.6294 - val_accuracy: 0.5920\n",
      "Epoch 29/50\n",
      "1689/1689 [==============================] - 123s 73ms/step - loss: 0.4700 - accuracy: 0.8207 - val_loss: 1.6450 - val_accuracy: 0.5884\n",
      "Epoch 30/50\n",
      "1689/1689 [==============================] - 121s 72ms/step - loss: 0.4585 - accuracy: 0.8243 - val_loss: 1.7198 - val_accuracy: 0.5769\n",
      "Epoch 31/50\n",
      "1689/1689 [==============================] - 128s 76ms/step - loss: 0.4581 - accuracy: 0.8249 - val_loss: 1.5400 - val_accuracy: 0.5885\n",
      "Epoch 32/50\n",
      "1689/1689 [==============================] - 113s 67ms/step - loss: 0.4546 - accuracy: 0.8260 - val_loss: 1.7173 - val_accuracy: 0.5637\n",
      "Epoch 33/50\n",
      "1689/1689 [==============================] - 112s 67ms/step - loss: 0.4512 - accuracy: 0.8274 - val_loss: 1.8263 - val_accuracy: 0.5772\n",
      "Epoch 34/50\n",
      "1689/1689 [==============================] - 105s 62ms/step - loss: 0.4439 - accuracy: 0.8309 - val_loss: 1.7525 - val_accuracy: 0.5864\n",
      "Epoch 35/50\n",
      "1689/1689 [==============================] - 109s 65ms/step - loss: 0.4390 - accuracy: 0.8327 - val_loss: 1.7620 - val_accuracy: 0.5900\n",
      "Epoch 36/50\n",
      "1689/1689 [==============================] - 104s 62ms/step - loss: 0.4388 - accuracy: 0.8322 - val_loss: 1.6020 - val_accuracy: 0.5864\n",
      "Epoch 37/50\n",
      "1689/1689 [==============================] - 107s 63ms/step - loss: 0.4319 - accuracy: 0.8362 - val_loss: 1.7658 - val_accuracy: 0.5876\n",
      "Epoch 38/50\n",
      "1689/1689 [==============================] - 106s 63ms/step - loss: 0.4309 - accuracy: 0.8355 - val_loss: 1.7347 - val_accuracy: 0.5754\n",
      "Epoch 39/50\n",
      "1689/1689 [==============================] - 108s 64ms/step - loss: 0.4257 - accuracy: 0.8387 - val_loss: 1.8665 - val_accuracy: 0.5537\n",
      "Epoch 40/50\n",
      "1689/1689 [==============================] - 110s 65ms/step - loss: 0.4256 - accuracy: 0.8390 - val_loss: 1.9300 - val_accuracy: 0.5703\n",
      "Epoch 41/50\n",
      "1689/1689 [==============================] - 108s 64ms/step - loss: 0.4231 - accuracy: 0.8404 - val_loss: 1.8888 - val_accuracy: 0.5470\n",
      "Epoch 42/50\n",
      "1689/1689 [==============================] - 105s 62ms/step - loss: 0.4193 - accuracy: 0.8396 - val_loss: 1.9263 - val_accuracy: 0.5754\n",
      "Epoch 43/50\n",
      "1689/1689 [==============================] - 106s 63ms/step - loss: 0.4164 - accuracy: 0.8430 - val_loss: 1.5892 - val_accuracy: 0.5869\n",
      "Epoch 44/50\n",
      "1689/1689 [==============================] - 106s 63ms/step - loss: 0.4122 - accuracy: 0.8447 - val_loss: 1.9432 - val_accuracy: 0.5637\n",
      "Epoch 45/50\n",
      "1689/1689 [==============================] - 107s 63ms/step - loss: 0.4089 - accuracy: 0.8462 - val_loss: 1.9462 - val_accuracy: 0.5840\n",
      "Epoch 46/50\n",
      "1689/1689 [==============================] - 112s 66ms/step - loss: 0.4060 - accuracy: 0.8467 - val_loss: 1.8088 - val_accuracy: 0.5788\n",
      "Epoch 47/50\n",
      "1689/1689 [==============================] - 107s 64ms/step - loss: 0.4022 - accuracy: 0.8481 - val_loss: 2.4799 - val_accuracy: 0.5677\n",
      "Epoch 48/50\n",
      "1689/1689 [==============================] - 106s 63ms/step - loss: 0.4058 - accuracy: 0.8469 - val_loss: 1.9305 - val_accuracy: 0.5683\n",
      "Epoch 49/50\n",
      "1689/1689 [==============================] - 107s 63ms/step - loss: 0.3975 - accuracy: 0.8500 - val_loss: 1.8772 - val_accuracy: 0.5814\n",
      "Epoch 50/50\n",
      "1689/1689 [==============================] - 105s 62ms/step - loss: 0.3995 - accuracy: 0.8488 - val_loss: 2.1264 - val_accuracy: 0.5623\n"
     ]
    }
   ],
   "source": [
    "r = model.fit_generator(\n",
    "    train_generator,\n",
    "    steps_per_epoch=train_generator.samples//batch_size,\n",
    "    validation_steps=validation_generator.samples//batch_size,\n",
    "    validation_data = validation_generator,\n",
    "    epochs = 50,\n",
    ")"
   ]
  },
  {
   "cell_type": "code",
   "execution_count": 1,
   "metadata": {},
   "outputs": [],
   "source": [
    "#model.save('model_researchpaper_2019_2.h5')"
   ]
  },
  {
   "cell_type": "code",
   "execution_count": 6,
   "metadata": {},
   "outputs": [],
   "source": [
    "#model = tf.keras.models.load_model('model_researchpaper_2019_2.h5')"
   ]
  },
  {
   "cell_type": "code",
   "execution_count": 7,
   "metadata": {},
   "outputs": [
    {
     "name": "stderr",
     "output_type": "stream",
     "text": [
      "C:\\Users\\GHAYAAS\\AppData\\Local\\Temp/ipykernel_12364/2098712288.py:2: UserWarning: `Model.predict_generator` is deprecated and will be removed in a future version. Please use `Model.predict`, which supports generators.\n",
      "  Y_pred = model.predict_generator(test_generator, test_generator.samples // batch_size+1)\n"
     ]
    }
   ],
   "source": [
    "#Confution Matrix and Classification Report\n",
    "Y_pred = model.predict_generator(test_generator, test_generator.samples // batch_size+1)\n",
    "y_pred = np.argmax(Y_pred, axis=1)\n",
    "print('Confusion Matrix')\n",
    "print(confusion_matrix(test_generator.classes, y_pred))\n",
    "print('Classification Report')\n",
    "target_names = ['ak', 'bcc', 'bkl', 'df', 'mel','nv', 'scc', 'vasc']\n",
    "print(classification_report(test_generator.classes, y_pred, target_names=target_names))"
   ]
  },
  {
   "cell_type": "code",
   "execution_count": 8,
   "metadata": {},
   "outputs": [
    {
     "name": "stdout",
     "output_type": "stream",
     "text": [
      "0.07501974203737825\n"
     ]
    }
   ],
   "source": [
    "from sklearn.metrics import accuracy_score\n",
    "print(accuracy_score(test_generator.classes, y_pred))"
   ]
  },
  {
   "cell_type": "code",
   "execution_count": null,
   "metadata": {},
   "outputs": [],
   "source": [
    "from sklearn.metrics import balanced_accuracy_score\n",
    "print(balanced_accuracy_score(test_generator.classes, y_pred))"
   ]
  }
 ],
 "metadata": {
  "interpreter": {
   "hash": "f44f79be4d0dc56bf7df116bc850954564c4c4f443100900ede2fae667342428"
  },
  "kernelspec": {
   "display_name": "Python 3.9.7 ('tf-gpu')",
   "language": "python",
   "name": "python3"
  },
  "language_info": {
   "codemirror_mode": {
    "name": "ipython",
    "version": 3
   },
   "file_extension": ".py",
   "mimetype": "text/x-python",
   "name": "python",
   "nbconvert_exporter": "python",
   "pygments_lexer": "ipython3",
   "version": "3.9.7"
  },
  "orig_nbformat": 4
 },
 "nbformat": 4,
 "nbformat_minor": 2
}
