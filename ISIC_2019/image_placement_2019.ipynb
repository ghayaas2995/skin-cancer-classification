{
 "cells": [
  {
   "cell_type": "markdown",
   "metadata": {},
   "source": [
    "# ISIC_2019: Image Placement"
   ]
  },
  {
   "cell_type": "code",
   "execution_count": null,
   "metadata": {},
   "outputs": [],
   "source": [
    "# Place all the training data downloaded in a folder named 'orig'.\n",
    "# orig folder should contain all the images from training set."
   ]
  },
  {
   "cell_type": "code",
   "execution_count": null,
   "metadata": {},
   "outputs": [],
   "source": [
    "import pandas as pd\n",
    "import os"
   ]
  },
  {
   "cell_type": "code",
   "execution_count": null,
   "metadata": {},
   "outputs": [],
   "source": [
    "# The below code create the main directory \"Data\" along with the \"train\" subfolder and subfolders representing\n",
    "# each class.\n",
    "\n",
    "# Data-\n",
    "#      |-train\n",
    "#             |-mel\n",
    "#             |-nv\n",
    "#             |-bcc\n",
    "#             |-ak\n",
    "#             |-bkl\n",
    "#             |-df\n",
    "#             |-vasc\n",
    "#             |-scc\n",
    "\n",
    "# Creating Train Directories\n",
    "for clas in ['mel', 'nv', 'bcc', 'ak', 'bkl', 'df', 'vasc', 'scc']:\n",
    "    os.makedirs(f'Data/train/{clas}')"
   ]
  },
  {
   "cell_type": "code",
   "execution_count": null,
   "metadata": {},
   "outputs": [],
   "source": [
    "# Read the Training ground truth csv file and place the training images into their respective classes\n",
    "\n",
    "meta = pd.read_csv('ISIC_2019_Training_GroundTruth.csv')\n",
    "for row in meta.values:\n",
    "    if row[1] == 1:\n",
    "        os.rename(f\"orig/{row[0]}.jpg\", f\"Data/train/mel/{row[0]}.jpg\")\n",
    "    elif row[2] == 1:\n",
    "        os.rename(f\"orig/{row[0]}.jpg\", f\"Data/train/nv/{row[0]}.jpg\")\n",
    "    elif row[3] == 1:\n",
    "        os.rename(f\"orig/{row[0]}.jpg\", f\"Data/train/bcc/{row[0]}.jpg\")\n",
    "    elif row[4] == 1:\n",
    "        os.rename(f\"orig/{row[0]}.jpg\", f\"Data/train/ak/{row[0]}.jpg\")\n",
    "    elif row[5] == 1:\n",
    "        os.rename(f\"orig/{row[0]}.jpg\", f\"Data/train/bkl/{row[0]}.jpg\")\n",
    "    elif row[6] == 1:\n",
    "        os.rename(f\"orig/{row[0]}.jpg\", f\"Data/train/df/{row[0]}.jpg\")\n",
    "    elif row[7] == 1:\n",
    "        os.rename(f\"orig/{row[0]}.jpg\", f\"Data/train/vasc/{row[0]}.jpg\")\n",
    "    else:\n",
    "        os.rename(f\"orig/{row[0]}.jpg\", f\"Data/train/scc/{row[0]}.jpg\")"
   ]
  },
  {
   "cell_type": "code",
   "execution_count": null,
   "metadata": {},
   "outputs": [],
   "source": []
  },
  {
   "cell_type": "code",
   "execution_count": null,
   "metadata": {},
   "outputs": [],
   "source": []
  },
  {
   "cell_type": "code",
   "execution_count": null,
   "metadata": {},
   "outputs": [],
   "source": []
  },
  {
   "cell_type": "code",
   "execution_count": null,
   "metadata": {},
   "outputs": [],
   "source": []
  }
 ],
 "metadata": {
  "interpreter": {
   "hash": "f44f79be4d0dc56bf7df116bc850954564c4c4f443100900ede2fae667342428"
  },
  "kernelspec": {
   "display_name": "Python 3.9.7 ('tf-gpu')",
   "language": "python",
   "name": "python3"
  },
  "language_info": {
   "codemirror_mode": {
    "name": "ipython",
    "version": 3
   },
   "file_extension": ".py",
   "mimetype": "text/x-python",
   "name": "python",
   "nbconvert_exporter": "python",
   "pygments_lexer": "ipython3",
   "version": "3.9.7"
  },
  "orig_nbformat": 4
 },
 "nbformat": 4,
 "nbformat_minor": 2
}
