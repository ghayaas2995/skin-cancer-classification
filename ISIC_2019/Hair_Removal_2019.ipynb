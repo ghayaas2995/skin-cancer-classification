{
 "cells": [
  {
   "cell_type": "markdown",
   "metadata": {},
   "source": [
    "# ISIC_2019: Hair Removal"
   ]
  },
  {
   "cell_type": "code",
   "execution_count": 1,
   "metadata": {},
   "outputs": [],
   "source": [
    "from glob import glob\n",
    "import shutil\n",
    "import os\n",
    "import cv2"
   ]
  },
  {
   "cell_type": "code",
   "execution_count": 2,
   "metadata": {},
   "outputs": [],
   "source": [
    "# create directories to save the results after hair removal of the 5 classes:\n",
    "for clas in ['mel', 'nv', 'bcc', 'bkl', 'vasc']:\n",
    "    os.makedirs(f'Data/Processed_Data/train/train_{clas}_aug')"
   ]
  },
  {
   "cell_type": "code",
   "execution_count": 2,
   "metadata": {},
   "outputs": [
    {
     "data": {
      "text/plain": [
       "['Data\\\\hair removal\\\\train_bcc_aug',\n",
       " 'Data\\\\hair removal\\\\train_bkl_aug',\n",
       " 'Data\\\\hair removal\\\\train_mel_aug',\n",
       " 'Data\\\\hair removal\\\\train_nv_aug',\n",
       " 'Data\\\\hair removal\\\\train_vasc_aug']"
      ]
     },
     "execution_count": 2,
     "metadata": {},
     "output_type": "execute_result"
    }
   ],
   "source": [
    "def dullrazor(img, lowbound=10, showimgs=True, filterstruc=17, inpaintmat=1):\n",
    "    #grayscale\n",
    "    imgtmp1 = cv2.cvtColor(img, cv2.COLOR_RGB2GRAY)\n",
    "    #applying a blackhat\n",
    "    filterSize =(filterstruc, filterstruc)\n",
    "    kernel = cv2.getStructuringElement(cv2.MORPH_RECT, filterSize) \n",
    "    imgtmp2 = cv2.morphologyEx(imgtmp1, cv2.MORPH_BLACKHAT, kernel)\n",
    "    \n",
    "    #0=skin and 255=hair\n",
    "    ret, mask = cv2.threshold(imgtmp2, lowbound, 255, cv2.THRESH_BINARY)\n",
    "    \n",
    "    #inpainting\n",
    "    img_final = cv2.inpaint(img, mask, inpaintmat ,cv2.INPAINT_TELEA)\n",
    "\n",
    "    return img_final\n",
    "# Folders Containing Actual Training Data chosen for hair removal class wise\n",
    "folders = glob('Data\\\\hair removal\\\\*')\n",
    "folders"
   ]
  },
  {
   "cell_type": "code",
   "execution_count": null,
   "metadata": {},
   "outputs": [],
   "source": [
    "# Looping over each class folder\n",
    "for sk_class in folders:\n",
    "    skcls = sk_class.split('\\\\')[-1]\n",
    "    # Looping over each image in a class folder\n",
    "    for image in glob(sk_class+'\\\\*'):\n",
    "        filename = image.split('\\\\')[-1]\n",
    "        img = cv2.imread(image)\n",
    "        img_clean = dullrazor(img,lowbound=6, filterstruc=9, inpaintmat=1)\n",
    "        # Saving processed image to new folder under specific classes.\n",
    "        cv2.imwrite(f'Data\\\\Processed_Data\\\\train\\\\{skcls}\\\\{filename}', img_clean)"
   ]
  },
  {
   "cell_type": "code",
   "execution_count": null,
   "metadata": {},
   "outputs": [],
   "source": []
  }
 ],
 "metadata": {
  "interpreter": {
   "hash": "f44f79be4d0dc56bf7df116bc850954564c4c4f443100900ede2fae667342428"
  },
  "kernelspec": {
   "display_name": "Python 3.9.7 ('tf-gpu')",
   "language": "python",
   "name": "python3"
  },
  "language_info": {
   "codemirror_mode": {
    "name": "ipython",
    "version": 3
   },
   "file_extension": ".py",
   "mimetype": "text/x-python",
   "name": "python",
   "nbconvert_exporter": "python",
   "pygments_lexer": "ipython3",
   "version": "3.9.7"
  },
  "orig_nbformat": 4
 },
 "nbformat": 4,
 "nbformat_minor": 2
}
